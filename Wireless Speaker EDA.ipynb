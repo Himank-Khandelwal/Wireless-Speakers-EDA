{
 "cells": [
  {
   "cell_type": "code",
   "execution_count": 2,
   "id": "5de0c591",
   "metadata": {},
   "outputs": [
    {
     "name": "stderr",
     "output_type": "stream",
     "text": [
      "UsageError: Line magic function `%matplotlib.inline` not found.\n"
     ]
    }
   ],
   "source": [
    "# Importing the Required Libraries\n",
    "import pandas as pd\n",
    "import numpy as np\n",
    "import matplotlib.pyplot as plt\n",
    "import seaborn as sns \n",
    "%matplotlib.inline"
   ]
  },
  {
   "cell_type": "code",
   "execution_count": 3,
   "id": "89877adb",
   "metadata": {},
   "outputs": [],
   "source": [
    "# Importing the dataset\n",
    "df = pd.read_csv(\"wireless speakers rating.csv\")"
   ]
  },
  {
   "cell_type": "code",
   "execution_count": 100,
   "id": "952c7fc3",
   "metadata": {},
   "outputs": [
    {
     "data": {
      "text/html": [
       "<div>\n",
       "<style scoped>\n",
       "    .dataframe tbody tr th:only-of-type {\n",
       "        vertical-align: middle;\n",
       "    }\n",
       "\n",
       "    .dataframe tbody tr th {\n",
       "        vertical-align: top;\n",
       "    }\n",
       "\n",
       "    .dataframe thead th {\n",
       "        text-align: right;\n",
       "    }\n",
       "</style>\n",
       "<table border=\"1\" class=\"dataframe\">\n",
       "  <thead>\n",
       "    <tr style=\"text-align: right;\">\n",
       "      <th></th>\n",
       "      <th>model</th>\n",
       "      <th>price</th>\n",
       "      <th>launch</th>\n",
       "      <th>overall</th>\n",
       "      <th>relaxing</th>\n",
       "      <th>party</th>\n",
       "      <th>movie</th>\n",
       "      <th>Month</th>\n",
       "      <th>Year</th>\n",
       "    </tr>\n",
       "  </thead>\n",
       "  <tbody>\n",
       "    <tr>\n",
       "      <th>0</th>\n",
       "      <td>Bowers &amp; Wilkins Formation Wedge</td>\n",
       "      <td>899</td>\n",
       "      <td>2019-06-01</td>\n",
       "      <td>160</td>\n",
       "      <td>158</td>\n",
       "      <td>155</td>\n",
       "      <td>134</td>\n",
       "      <td>6</td>\n",
       "      <td>2019</td>\n",
       "    </tr>\n",
       "    <tr>\n",
       "      <th>1</th>\n",
       "      <td>Harman Kardon Citation 200</td>\n",
       "      <td>349</td>\n",
       "      <td>2020-09-01</td>\n",
       "      <td>147</td>\n",
       "      <td>136</td>\n",
       "      <td>150</td>\n",
       "      <td>119</td>\n",
       "      <td>9</td>\n",
       "      <td>2020</td>\n",
       "    </tr>\n",
       "    <tr>\n",
       "      <th>2</th>\n",
       "      <td>Sonos Five</td>\n",
       "      <td>499</td>\n",
       "      <td>2021-06-01</td>\n",
       "      <td>147</td>\n",
       "      <td>141</td>\n",
       "      <td>148</td>\n",
       "      <td>123</td>\n",
       "      <td>6</td>\n",
       "      <td>2021</td>\n",
       "    </tr>\n",
       "    <tr>\n",
       "      <th>3</th>\n",
       "      <td>Bowers &amp; Wilkins Zeppelin</td>\n",
       "      <td>799</td>\n",
       "      <td>2021-10-01</td>\n",
       "      <td>146</td>\n",
       "      <td>148</td>\n",
       "      <td>137</td>\n",
       "      <td>117</td>\n",
       "      <td>10</td>\n",
       "      <td>2021</td>\n",
       "    </tr>\n",
       "    <tr>\n",
       "      <th>4</th>\n",
       "      <td>Bang &amp; Olufsen Beosound Balance</td>\n",
       "      <td>2250</td>\n",
       "      <td>2020-03-01</td>\n",
       "      <td>145</td>\n",
       "      <td>135</td>\n",
       "      <td>141</td>\n",
       "      <td>110</td>\n",
       "      <td>3</td>\n",
       "      <td>2020</td>\n",
       "    </tr>\n",
       "  </tbody>\n",
       "</table>\n",
       "</div>"
      ],
      "text/plain": [
       "                              model  price     launch  overall  relaxing  \\\n",
       "0  Bowers & Wilkins Formation Wedge    899 2019-06-01      160       158   \n",
       "1        Harman Kardon Citation 200    349 2020-09-01      147       136   \n",
       "2                        Sonos Five    499 2021-06-01      147       141   \n",
       "3         Bowers & Wilkins Zeppelin    799 2021-10-01      146       148   \n",
       "4   Bang & Olufsen Beosound Balance   2250 2020-03-01      145       135   \n",
       "\n",
       "   party  movie  Month  Year  \n",
       "0    155    134      6  2019  \n",
       "1    150    119      9  2020  \n",
       "2    148    123      6  2021  \n",
       "3    137    117     10  2021  \n",
       "4    141    110      3  2020  "
      ]
     },
     "execution_count": 100,
     "metadata": {},
     "output_type": "execute_result"
    }
   ],
   "source": [
    "df.head()"
   ]
  },
  {
   "cell_type": "code",
   "execution_count": 5,
   "id": "c4bda729",
   "metadata": {},
   "outputs": [
    {
     "data": {
      "text/plain": [
       "(45, 7)"
      ]
     },
     "execution_count": 5,
     "metadata": {},
     "output_type": "execute_result"
    }
   ],
   "source": [
    "df.shape"
   ]
  },
  {
   "cell_type": "code",
   "execution_count": 6,
   "id": "a45e7063",
   "metadata": {},
   "outputs": [
    {
     "data": {
      "text/plain": [
       "45"
      ]
     },
     "execution_count": 6,
     "metadata": {},
     "output_type": "execute_result"
    }
   ],
   "source": [
    "# Understanding model columns : All are unique\n",
    "df.model.nunique()"
   ]
  },
  {
   "cell_type": "code",
   "execution_count": 7,
   "id": "d093a752",
   "metadata": {},
   "outputs": [],
   "source": [
    "# Handling price column making it int and removing $ symbol\n",
    "df['price'] = df['price'].apply(lambda x: x[1:]).astype(int)"
   ]
  },
  {
   "cell_type": "code",
   "execution_count": 25,
   "id": "d9c526e3",
   "metadata": {
    "scrolled": true
   },
   "outputs": [],
   "source": [
    "## Most 10 Expensive wireless speakers\n",
    "df_most_expensive = df[['model',\"price\"]].sort_values(\"price\",ascending=False).head(10)"
   ]
  },
  {
   "cell_type": "code",
   "execution_count": 74,
   "id": "287effde",
   "metadata": {},
   "outputs": [
    {
     "data": {
      "text/plain": [
       "<AxesSubplot:xlabel='price', ylabel='model'>"
      ]
     },
     "execution_count": 74,
     "metadata": {},
     "output_type": "execute_result"
    },
    {
     "data": {
      "image/png": "[encoded data removed]",
      "text/plain": [
       "<Figure size 432x288 with 1 Axes>"
      ]
     },
     "metadata": {
      "needs_background": "light"
     },
     "output_type": "display_data"
    }
   ],
   "source": [
    "# Resetting index\n",
    "df_most_expensive = df_most_expensive.reset_index().drop(columns=['index'])\n",
    "sns.barplot(x= \"price\",y=\"model\",data = df_most_expensive)"
   ]
  },
  {
   "cell_type": "code",
   "execution_count": 27,
   "id": "9f7c4e04",
   "metadata": {},
   "outputs": [
    {
     "data": {
      "text/html": [
       "<div>\n",
       "<style scoped>\n",
       "    .dataframe tbody tr th:only-of-type {\n",
       "        vertical-align: middle;\n",
       "    }\n",
       "\n",
       "    .dataframe tbody tr th {\n",
       "        vertical-align: top;\n",
       "    }\n",
       "\n",
       "    .dataframe thead th {\n",
       "        text-align: right;\n",
       "    }\n",
       "</style>\n",
       "<table border=\"1\" class=\"dataframe\">\n",
       "  <thead>\n",
       "    <tr style=\"text-align: right;\">\n",
       "      <th></th>\n",
       "      <th>model</th>\n",
       "      <th>price</th>\n",
       "    </tr>\n",
       "  </thead>\n",
       "  <tbody>\n",
       "    <tr>\n",
       "      <th>0</th>\n",
       "      <td>Bang &amp; Olufsen Beosound Balance</td>\n",
       "      <td>2250</td>\n",
       "    </tr>\n",
       "    <tr>\n",
       "      <th>1</th>\n",
       "      <td>Naim Mu-so 2nd Generation</td>\n",
       "      <td>1690</td>\n",
       "    </tr>\n",
       "    <tr>\n",
       "      <th>2</th>\n",
       "      <td>Devialet Phantom  II 98 dB Opéra De Paris</td>\n",
       "      <td>1590</td>\n",
       "    </tr>\n",
       "    <tr>\n",
       "      <th>3</th>\n",
       "      <td>Bang &amp; Olufsen Beosound Level</td>\n",
       "      <td>1549</td>\n",
       "    </tr>\n",
       "    <tr>\n",
       "      <th>4</th>\n",
       "      <td>Cabasse The Pearl Akoya</td>\n",
       "      <td>1490</td>\n",
       "    </tr>\n",
       "    <tr>\n",
       "      <th>5</th>\n",
       "      <td>Bowers &amp; Wilkins Formation Wedge</td>\n",
       "      <td>899</td>\n",
       "    </tr>\n",
       "    <tr>\n",
       "      <th>6</th>\n",
       "      <td>Bowers &amp; Wilkins Zeppelin</td>\n",
       "      <td>799</td>\n",
       "    </tr>\n",
       "    <tr>\n",
       "      <th>7</th>\n",
       "      <td>Denon Home 250</td>\n",
       "      <td>499</td>\n",
       "    </tr>\n",
       "    <tr>\n",
       "      <th>8</th>\n",
       "      <td>Bluesound PULSE MINI 2i</td>\n",
       "      <td>499</td>\n",
       "    </tr>\n",
       "    <tr>\n",
       "      <th>9</th>\n",
       "      <td>Yamaha MusicCast 50</td>\n",
       "      <td>499</td>\n",
       "    </tr>\n",
       "  </tbody>\n",
       "</table>\n",
       "</div>"
      ],
      "text/plain": [
       "                                       model  price\n",
       "0            Bang & Olufsen Beosound Balance   2250\n",
       "1                  Naim Mu-so 2nd Generation   1690\n",
       "2  Devialet Phantom  II 98 dB Opéra De Paris   1590\n",
       "3              Bang & Olufsen Beosound Level   1549\n",
       "4                    Cabasse The Pearl Akoya   1490\n",
       "5           Bowers & Wilkins Formation Wedge    899\n",
       "6                  Bowers & Wilkins Zeppelin    799\n",
       "7                             Denon Home 250    499\n",
       "8                    Bluesound PULSE MINI 2i    499\n",
       "9                        Yamaha MusicCast 50    499"
      ]
     },
     "metadata": {},
     "output_type": "display_data"
    }
   ],
   "source": [
    "display(df_most_expensive)"
   ]
  },
  {
   "cell_type": "code",
   "execution_count": 70,
   "id": "4bccd388",
   "metadata": {},
   "outputs": [
    {
     "data": {
      "text/plain": [
       "<AxesSubplot:xlabel='overall', ylabel='model'>"
      ]
     },
     "execution_count": 70,
     "metadata": {},
     "output_type": "execute_result"
    },
    {
     "data": {
      "image/png": "[encoded data removed]",
      "text/plain": [
       "<Figure size 432x288 with 1 Axes>"
      ]
     },
     "metadata": {
      "needs_background": "light"
     },
     "output_type": "display_data"
    }
   ],
   "source": [
    "# Top 10 Highest overall rating Speakers \n",
    "df_best_overall_rating = df[['model','overall']].sort_values('overall',ascending=False).reset_index().drop(columns=\"index\").head(10)\n",
    "sns.barplot(x= \"overall\",y=\"model\",data = df_best_overall_rating)"
   ]
  },
  {
   "cell_type": "code",
   "execution_count": 44,
   "id": "884c0be1",
   "metadata": {},
   "outputs": [
    {
     "data": {
      "text/html": [
       "<div>\n",
       "<style scoped>\n",
       "    .dataframe tbody tr th:only-of-type {\n",
       "        vertical-align: middle;\n",
       "    }\n",
       "\n",
       "    .dataframe tbody tr th {\n",
       "        vertical-align: top;\n",
       "    }\n",
       "\n",
       "    .dataframe thead th {\n",
       "        text-align: right;\n",
       "    }\n",
       "</style>\n",
       "<table border=\"1\" class=\"dataframe\">\n",
       "  <thead>\n",
       "    <tr style=\"text-align: right;\">\n",
       "      <th></th>\n",
       "      <th>model</th>\n",
       "      <th>overall</th>\n",
       "    </tr>\n",
       "  </thead>\n",
       "  <tbody>\n",
       "    <tr>\n",
       "      <th>0</th>\n",
       "      <td>Bowers &amp; Wilkins Formation Wedge</td>\n",
       "      <td>160</td>\n",
       "    </tr>\n",
       "    <tr>\n",
       "      <th>1</th>\n",
       "      <td>Sonos Five</td>\n",
       "      <td>147</td>\n",
       "    </tr>\n",
       "    <tr>\n",
       "      <th>2</th>\n",
       "      <td>Harman Kardon Citation 200</td>\n",
       "      <td>147</td>\n",
       "    </tr>\n",
       "    <tr>\n",
       "      <th>3</th>\n",
       "      <td>Bowers &amp; Wilkins Zeppelin</td>\n",
       "      <td>146</td>\n",
       "    </tr>\n",
       "    <tr>\n",
       "      <th>4</th>\n",
       "      <td>Google Home Max</td>\n",
       "      <td>145</td>\n",
       "    </tr>\n",
       "    <tr>\n",
       "      <th>5</th>\n",
       "      <td>Bang &amp; Olufsen Beosound Balance</td>\n",
       "      <td>145</td>\n",
       "    </tr>\n",
       "    <tr>\n",
       "      <th>6</th>\n",
       "      <td>Cabasse The Pearl Akoya</td>\n",
       "      <td>144</td>\n",
       "    </tr>\n",
       "    <tr>\n",
       "      <th>7</th>\n",
       "      <td>Marshall Stanmore II</td>\n",
       "      <td>144</td>\n",
       "    </tr>\n",
       "    <tr>\n",
       "      <th>8</th>\n",
       "      <td>Teufel BOOMSTER</td>\n",
       "      <td>139</td>\n",
       "    </tr>\n",
       "    <tr>\n",
       "      <th>9</th>\n",
       "      <td>Klipsch The Three II</td>\n",
       "      <td>137</td>\n",
       "    </tr>\n",
       "  </tbody>\n",
       "</table>\n",
       "</div>"
      ],
      "text/plain": [
       "                              model  overall\n",
       "0  Bowers & Wilkins Formation Wedge      160\n",
       "1                        Sonos Five      147\n",
       "2        Harman Kardon Citation 200      147\n",
       "3         Bowers & Wilkins Zeppelin      146\n",
       "4                   Google Home Max      145\n",
       "5   Bang & Olufsen Beosound Balance      145\n",
       "6           Cabasse The Pearl Akoya      144\n",
       "7              Marshall Stanmore II      144\n",
       "8                   Teufel BOOMSTER      139\n",
       "9              Klipsch The Three II      137"
      ]
     },
     "metadata": {},
     "output_type": "display_data"
    }
   ],
   "source": [
    "display(df_best_overall_rating)"
   ]
  },
  {
   "cell_type": "code",
   "execution_count": 68,
   "id": "4ac08432",
   "metadata": {},
   "outputs": [
    {
     "data": {
      "text/plain": [
       "<AxesSubplot:xlabel='relaxing', ylabel='model'>"
      ]
     },
     "execution_count": 68,
     "metadata": {},
     "output_type": "execute_result"
    },
    {
     "data": {
      "image/png": "[encoded data removed]",
      "text/plain": [
       "<Figure size 432x288 with 1 Axes>"
      ]
     },
     "metadata": {
      "needs_background": "light"
     },
     "output_type": "display_data"
    }
   ],
   "source": [
    "# Relaxing Music\n",
    "df_relaxing = df[['model','relaxing']].sort_values('relaxing',ascending=False).reset_index().drop(columns=\"index\").head(10)\n",
    "sns.barplot(x= \"relaxing\",y=\"model\",data = df_relaxing)"
   ]
  },
  {
   "cell_type": "code",
   "execution_count": 71,
   "id": "1494426e",
   "metadata": {},
   "outputs": [
    {
     "data": {
      "text/plain": [
       "<AxesSubplot:xlabel='party', ylabel='model'>"
      ]
     },
     "execution_count": 71,
     "metadata": {},
     "output_type": "execute_result"
    },
    {
     "data": {
      "image/png": "[encoded data removed]",
      "text/plain": [
       "<Figure size 432x288 with 1 Axes>"
      ]
     },
     "metadata": {
      "needs_background": "light"
     },
     "output_type": "display_data"
    }
   ],
   "source": [
    "# Party Music \n",
    "df_party = df[['model','party']].sort_values('party',ascending=False).reset_index().drop(columns=\"index\").head(10)\n",
    "sns.barplot(x= \"party\",y=\"model\",data = df_party)"
   ]
  },
  {
   "cell_type": "code",
   "execution_count": 72,
   "id": "83372f00",
   "metadata": {},
   "outputs": [
    {
     "data": {
      "text/plain": [
       "<AxesSubplot:xlabel='movie', ylabel='model'>"
      ]
     },
     "execution_count": 72,
     "metadata": {},
     "output_type": "execute_result"
    },
    {
     "data": {
      "image/png": "[encoded data removed]",
      "text/plain": [
       "<Figure size 432x288 with 1 Axes>"
      ]
     },
     "metadata": {
      "needs_background": "light"
     },
     "output_type": "display_data"
    }
   ],
   "source": [
    "# Best Speakers for movie\n",
    "df_movie = df[['model','movie']].sort_values('movie',ascending=False).reset_index().drop(columns=\"index\").head(10)\n",
    "sns.barplot(x= \"movie\",y=\"model\",data = df_movie)"
   ]
  },
  {
   "cell_type": "code",
   "execution_count": 52,
   "id": "7bd0735b",
   "metadata": {},
   "outputs": [],
   "source": [
    "df_TheBest = df_best_overall_rating.merge(df_most_expensive,on = 'model',how='inner').merge(df_relaxing,on = 'model',how='inner').merge(df_party,on = 'model',how='inner').merge(df_movie,on = 'model',how='inner')"
   ]
  },
  {
   "cell_type": "code",
   "execution_count": 76,
   "id": "1a1ea8cd",
   "metadata": {},
   "outputs": [
    {
     "data": {
      "text/html": [
       "<div>\n",
       "<style scoped>\n",
       "    .dataframe tbody tr th:only-of-type {\n",
       "        vertical-align: middle;\n",
       "    }\n",
       "\n",
       "    .dataframe tbody tr th {\n",
       "        vertical-align: top;\n",
       "    }\n",
       "\n",
       "    .dataframe thead th {\n",
       "        text-align: right;\n",
       "    }\n",
       "</style>\n",
       "<table border=\"1\" class=\"dataframe\">\n",
       "  <thead>\n",
       "    <tr style=\"text-align: right;\">\n",
       "      <th></th>\n",
       "      <th>model</th>\n",
       "      <th>overall</th>\n",
       "      <th>price</th>\n",
       "      <th>relaxing</th>\n",
       "      <th>party</th>\n",
       "      <th>movie</th>\n",
       "    </tr>\n",
       "  </thead>\n",
       "  <tbody>\n",
       "    <tr>\n",
       "      <th>0</th>\n",
       "      <td>Bowers &amp; Wilkins Formation Wedge</td>\n",
       "      <td>160</td>\n",
       "      <td>899</td>\n",
       "      <td>158</td>\n",
       "      <td>155</td>\n",
       "      <td>134</td>\n",
       "    </tr>\n",
       "    <tr>\n",
       "      <th>1</th>\n",
       "      <td>Bowers &amp; Wilkins Zeppelin</td>\n",
       "      <td>146</td>\n",
       "      <td>799</td>\n",
       "      <td>148</td>\n",
       "      <td>137</td>\n",
       "      <td>117</td>\n",
       "    </tr>\n",
       "  </tbody>\n",
       "</table>\n",
       "</div>"
      ],
      "text/plain": [
       "                              model  overall  price  relaxing  party  movie\n",
       "0  Bowers & Wilkins Formation Wedge      160    899       158    155    134\n",
       "1         Bowers & Wilkins Zeppelin      146    799       148    137    117"
      ]
     },
     "execution_count": 76,
     "metadata": {},
     "output_type": "execute_result"
    }
   ],
   "source": [
    "# Two best speakers in every aspects and both are from Bowers & Wilkins\n",
    "df_TheBest"
   ]
  },
  {
   "cell_type": "code",
   "execution_count": 78,
   "id": "1a49818a",
   "metadata": {},
   "outputs": [
    {
     "data": {
      "text/html": [
       "<div>\n",
       "<style scoped>\n",
       "    .dataframe tbody tr th:only-of-type {\n",
       "        vertical-align: middle;\n",
       "    }\n",
       "\n",
       "    .dataframe tbody tr th {\n",
       "        vertical-align: top;\n",
       "    }\n",
       "\n",
       "    .dataframe thead th {\n",
       "        text-align: right;\n",
       "    }\n",
       "</style>\n",
       "<table border=\"1\" class=\"dataframe\">\n",
       "  <thead>\n",
       "    <tr style=\"text-align: right;\">\n",
       "      <th></th>\n",
       "      <th>model</th>\n",
       "      <th>price</th>\n",
       "      <th>launch</th>\n",
       "      <th>overall</th>\n",
       "      <th>relaxing</th>\n",
       "      <th>party</th>\n",
       "      <th>movie</th>\n",
       "    </tr>\n",
       "  </thead>\n",
       "  <tbody>\n",
       "    <tr>\n",
       "      <th>0</th>\n",
       "      <td>Bowers &amp; Wilkins Formation Wedge</td>\n",
       "      <td>899</td>\n",
       "      <td>Jun 2019</td>\n",
       "      <td>160</td>\n",
       "      <td>158</td>\n",
       "      <td>155</td>\n",
       "      <td>134</td>\n",
       "    </tr>\n",
       "    <tr>\n",
       "      <th>1</th>\n",
       "      <td>Harman Kardon Citation 200</td>\n",
       "      <td>349</td>\n",
       "      <td>Sep 2020</td>\n",
       "      <td>147</td>\n",
       "      <td>136</td>\n",
       "      <td>150</td>\n",
       "      <td>119</td>\n",
       "    </tr>\n",
       "    <tr>\n",
       "      <th>2</th>\n",
       "      <td>Sonos Five</td>\n",
       "      <td>499</td>\n",
       "      <td>Jun 2021</td>\n",
       "      <td>147</td>\n",
       "      <td>141</td>\n",
       "      <td>148</td>\n",
       "      <td>123</td>\n",
       "    </tr>\n",
       "    <tr>\n",
       "      <th>3</th>\n",
       "      <td>Bowers &amp; Wilkins Zeppelin</td>\n",
       "      <td>799</td>\n",
       "      <td>Oct 2021</td>\n",
       "      <td>146</td>\n",
       "      <td>148</td>\n",
       "      <td>137</td>\n",
       "      <td>117</td>\n",
       "    </tr>\n",
       "    <tr>\n",
       "      <th>4</th>\n",
       "      <td>Bang &amp; Olufsen Beosound Balance</td>\n",
       "      <td>2250</td>\n",
       "      <td>Mar 2020</td>\n",
       "      <td>145</td>\n",
       "      <td>135</td>\n",
       "      <td>141</td>\n",
       "      <td>110</td>\n",
       "    </tr>\n",
       "  </tbody>\n",
       "</table>\n",
       "</div>"
      ],
      "text/plain": [
       "                              model  price    launch  overall  relaxing  \\\n",
       "0  Bowers & Wilkins Formation Wedge    899  Jun 2019      160       158   \n",
       "1        Harman Kardon Citation 200    349  Sep 2020      147       136   \n",
       "2                        Sonos Five    499  Jun 2021      147       141   \n",
       "3         Bowers & Wilkins Zeppelin    799  Oct 2021      146       148   \n",
       "4   Bang & Olufsen Beosound Balance   2250  Mar 2020      145       135   \n",
       "\n",
       "   party  movie  \n",
       "0    155    134  \n",
       "1    150    119  \n",
       "2    148    123  \n",
       "3    137    117  \n",
       "4    141    110  "
      ]
     },
     "execution_count": 78,
     "metadata": {},
     "output_type": "execute_result"
    }
   ],
   "source": [
    "df.head()"
   ]
  },
  {
   "cell_type": "code",
   "execution_count": 79,
   "id": "66acddbe",
   "metadata": {},
   "outputs": [
    {
     "name": "stdout",
     "output_type": "stream",
     "text": [
      "<class 'pandas.core.frame.DataFrame'>\n",
      "RangeIndex: 45 entries, 0 to 44\n",
      "Data columns (total 7 columns):\n",
      " #   Column    Non-Null Count  Dtype \n",
      "---  ------    --------------  ----- \n",
      " 0   model     45 non-null     object\n",
      " 1   price     45 non-null     int32 \n",
      " 2   launch    45 non-null     object\n",
      " 3   overall   45 non-null     int64 \n",
      " 4   relaxing  45 non-null     int64 \n",
      " 5   party     45 non-null     int64 \n",
      " 6   movie     45 non-null     int64 \n",
      "dtypes: int32(1), int64(4), object(2)\n",
      "memory usage: 2.4+ KB\n"
     ]
    }
   ],
   "source": [
    "#info \n",
    "df.info()"
   ]
  },
  {
   "cell_type": "code",
   "execution_count": 83,
   "id": "88382fe7",
   "metadata": {},
   "outputs": [],
   "source": [
    "# making launch date date time object\n",
    "df[\"launch\"] = pd.to_datetime(df['launch'])\n",
    "\n",
    "# Extracting Month Details:\n",
    "df[\"Month\"] = df['launch'].dt.month\n",
    "\n",
    "# Extracting Year Details:\n",
    "df['Year'] = df['launch'].dt.year"
   ]
  },
  {
   "cell_type": "code",
   "execution_count": 84,
   "id": "c78033f8",
   "metadata": {},
   "outputs": [
    {
     "data": {
      "text/html": [
       "<div>\n",
       "<style scoped>\n",
       "    .dataframe tbody tr th:only-of-type {\n",
       "        vertical-align: middle;\n",
       "    }\n",
       "\n",
       "    .dataframe tbody tr th {\n",
       "        vertical-align: top;\n",
       "    }\n",
       "\n",
       "    .dataframe thead th {\n",
       "        text-align: right;\n",
       "    }\n",
       "</style>\n",
       "<table border=\"1\" class=\"dataframe\">\n",
       "  <thead>\n",
       "    <tr style=\"text-align: right;\">\n",
       "      <th></th>\n",
       "      <th>model</th>\n",
       "      <th>price</th>\n",
       "      <th>launch</th>\n",
       "      <th>overall</th>\n",
       "      <th>relaxing</th>\n",
       "      <th>party</th>\n",
       "      <th>movie</th>\n",
       "      <th>Month</th>\n",
       "      <th>Year</th>\n",
       "    </tr>\n",
       "  </thead>\n",
       "  <tbody>\n",
       "    <tr>\n",
       "      <th>0</th>\n",
       "      <td>Bowers &amp; Wilkins Formation Wedge</td>\n",
       "      <td>899</td>\n",
       "      <td>2019-06-01</td>\n",
       "      <td>160</td>\n",
       "      <td>158</td>\n",
       "      <td>155</td>\n",
       "      <td>134</td>\n",
       "      <td>6</td>\n",
       "      <td>2019</td>\n",
       "    </tr>\n",
       "    <tr>\n",
       "      <th>1</th>\n",
       "      <td>Harman Kardon Citation 200</td>\n",
       "      <td>349</td>\n",
       "      <td>2020-09-01</td>\n",
       "      <td>147</td>\n",
       "      <td>136</td>\n",
       "      <td>150</td>\n",
       "      <td>119</td>\n",
       "      <td>9</td>\n",
       "      <td>2020</td>\n",
       "    </tr>\n",
       "    <tr>\n",
       "      <th>2</th>\n",
       "      <td>Sonos Five</td>\n",
       "      <td>499</td>\n",
       "      <td>2021-06-01</td>\n",
       "      <td>147</td>\n",
       "      <td>141</td>\n",
       "      <td>148</td>\n",
       "      <td>123</td>\n",
       "      <td>6</td>\n",
       "      <td>2021</td>\n",
       "    </tr>\n",
       "    <tr>\n",
       "      <th>3</th>\n",
       "      <td>Bowers &amp; Wilkins Zeppelin</td>\n",
       "      <td>799</td>\n",
       "      <td>2021-10-01</td>\n",
       "      <td>146</td>\n",
       "      <td>148</td>\n",
       "      <td>137</td>\n",
       "      <td>117</td>\n",
       "      <td>10</td>\n",
       "      <td>2021</td>\n",
       "    </tr>\n",
       "    <tr>\n",
       "      <th>4</th>\n",
       "      <td>Bang &amp; Olufsen Beosound Balance</td>\n",
       "      <td>2250</td>\n",
       "      <td>2020-03-01</td>\n",
       "      <td>145</td>\n",
       "      <td>135</td>\n",
       "      <td>141</td>\n",
       "      <td>110</td>\n",
       "      <td>3</td>\n",
       "      <td>2020</td>\n",
       "    </tr>\n",
       "  </tbody>\n",
       "</table>\n",
       "</div>"
      ],
      "text/plain": [
       "                              model  price     launch  overall  relaxing  \\\n",
       "0  Bowers & Wilkins Formation Wedge    899 2019-06-01      160       158   \n",
       "1        Harman Kardon Citation 200    349 2020-09-01      147       136   \n",
       "2                        Sonos Five    499 2021-06-01      147       141   \n",
       "3         Bowers & Wilkins Zeppelin    799 2021-10-01      146       148   \n",
       "4   Bang & Olufsen Beosound Balance   2250 2020-03-01      145       135   \n",
       "\n",
       "   party  movie  Month  Year  \n",
       "0    155    134      6  2019  \n",
       "1    150    119      9  2020  \n",
       "2    148    123      6  2021  \n",
       "3    137    117     10  2021  \n",
       "4    141    110      3  2020  "
      ]
     },
     "execution_count": 84,
     "metadata": {},
     "output_type": "execute_result"
    }
   ],
   "source": [
    "# Checking the dataset after adding columns(Year, Month)\n",
    "df.head()"
   ]
  },
  {
   "cell_type": "code",
   "execution_count": 91,
   "id": "be8804fc",
   "metadata": {},
   "outputs": [
    {
     "data": {
      "text/html": [
       "<div>\n",
       "<style scoped>\n",
       "    .dataframe tbody tr th:only-of-type {\n",
       "        vertical-align: middle;\n",
       "    }\n",
       "\n",
       "    .dataframe tbody tr th {\n",
       "        vertical-align: top;\n",
       "    }\n",
       "\n",
       "    .dataframe thead th {\n",
       "        text-align: right;\n",
       "    }\n",
       "</style>\n",
       "<table border=\"1\" class=\"dataframe\">\n",
       "  <thead>\n",
       "    <tr style=\"text-align: right;\">\n",
       "      <th></th>\n",
       "      <th>Year</th>\n",
       "      <th>Count</th>\n",
       "    </tr>\n",
       "  </thead>\n",
       "  <tbody>\n",
       "    <tr>\n",
       "      <th>0</th>\n",
       "      <td>2016</td>\n",
       "      <td>1</td>\n",
       "    </tr>\n",
       "    <tr>\n",
       "      <th>1</th>\n",
       "      <td>2017</td>\n",
       "      <td>3</td>\n",
       "    </tr>\n",
       "    <tr>\n",
       "      <th>2</th>\n",
       "      <td>2018</td>\n",
       "      <td>6</td>\n",
       "    </tr>\n",
       "    <tr>\n",
       "      <th>3</th>\n",
       "      <td>2019</td>\n",
       "      <td>7</td>\n",
       "    </tr>\n",
       "    <tr>\n",
       "      <th>4</th>\n",
       "      <td>2020</td>\n",
       "      <td>15</td>\n",
       "    </tr>\n",
       "    <tr>\n",
       "      <th>5</th>\n",
       "      <td>2021</td>\n",
       "      <td>12</td>\n",
       "    </tr>\n",
       "    <tr>\n",
       "      <th>6</th>\n",
       "      <td>2022</td>\n",
       "      <td>1</td>\n",
       "    </tr>\n",
       "  </tbody>\n",
       "</table>\n",
       "</div>"
      ],
      "text/plain": [
       "   Year  Count\n",
       "0  2016      1\n",
       "1  2017      3\n",
       "2  2018      6\n",
       "3  2019      7\n",
       "4  2020     15\n",
       "5  2021     12\n",
       "6  2022      1"
      ]
     },
     "execution_count": 91,
     "metadata": {},
     "output_type": "execute_result"
    }
   ],
   "source": [
    "# Year Vs Count\n",
    "df_byYear = df.groupby('Year')[\"model\"].count().reset_index().rename(columns={\"model\":\"Count\"})\n",
    "df_byYear"
   ]
  },
  {
   "cell_type": "code",
   "execution_count": 94,
   "id": "5f4d9b8e",
   "metadata": {},
   "outputs": [
    {
     "data": {
      "text/plain": [
       "<AxesSubplot:xlabel='Year', ylabel='Count'>"
      ]
     },
     "execution_count": 94,
     "metadata": {},
     "output_type": "execute_result"
    },
    {
     "data": {
      "image/png": "[encoded data removed]",
      "text/plain": [
       "<Figure size 432x288 with 1 Axes>"
      ]
     },
     "metadata": {
      "needs_background": "light"
     },
     "output_type": "display_data"
    }
   ],
   "source": [
    "# Bar Graph depicting Year Vs Count of Speaker Launched\n",
    "sns.barplot(x= \"Year\",y=\"Count\",data = df_byYear,)"
   ]
  },
  {
   "cell_type": "code",
   "execution_count": 95,
   "id": "25ef8963",
   "metadata": {},
   "outputs": [],
   "source": [
    "# There are almost 15 models launched in 2020 that is max."
   ]
  },
  {
   "cell_type": "code",
   "execution_count": null,
   "id": "34d1ceba",
   "metadata": {},
   "outputs": [],
   "source": []
  },
  {
   "cell_type": "code",
   "execution_count": null,
   "id": "5ca3ecbd",
   "metadata": {},
   "outputs": [],
   "source": []
  },
  {
   "cell_type": "code",
   "execution_count": null,
   "id": "d7995577",
   "metadata": {},
   "outputs": [],
   "source": []
  }
 ],
 "metadata": {
  "kernelspec": {
   "display_name": "Python 3 (ipykernel)",
   "language": "python",
   "name": "python3"
  },
  "language_info": {
   "codemirror_mode": {
    "name": "ipython",
    "version": 3
   },
   "file_extension": ".py",
   "mimetype": "text/x-python",
   "name": "python",
   "nbconvert_exporter": "python",
   "pygments_lexer": "ipython3",
   "version": "3.9.7"
  }
 },
 "nbformat": 4,
 "nbformat_minor": 5
}
